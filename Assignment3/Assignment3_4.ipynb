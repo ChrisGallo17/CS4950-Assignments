{
 "cells": [
  {
   "cell_type": "code",
   "execution_count": 5,
   "metadata": {},
   "outputs": [],
   "source": [
    "import networkx as nx\n",
    "import matplotlib.pyplot as plt \n",
    "\n",
    "#1.Load up the directed multigraph. Make sure the node names are strings.\n",
    "G = nx.read_edgelist(\"email-EuAll.txt\", nodetype = str)\n",
    "G1=nx.DiGraph(G)"
   ]
  },
  {
   "cell_type": "code",
   "execution_count": 6,
   "metadata": {},
   "outputs": [
    {
     "data": {
      "text/plain": [
       "265214"
      ]
     },
     "execution_count": 6,
     "metadata": {},
     "output_type": "execute_result"
    }
   ],
   "source": [
    "#2.How many unique sources did send an email?\n",
    "G1.number_of_nodes()"
   ]
  },
  {
   "cell_type": "code",
   "execution_count": 7,
   "metadata": {},
   "outputs": [
    {
     "data": {
      "text/plain": [
       "730051"
      ]
     },
     "execution_count": 7,
     "metadata": {},
     "output_type": "execute_result"
    }
   ],
   "source": [
    "#2.how many emails were sent? # of edges\n",
    "G1.number_of_edges()"
   ]
  },
  {
   "cell_type": "code",
   "execution_count": 8,
   "metadata": {},
   "outputs": [
    {
     "data": {
      "text/plain": [
       "False"
      ]
     },
     "execution_count": 8,
     "metadata": {},
     "output_type": "execute_result"
    }
   ],
   "source": [
    "#3.is it possible for information to go from every sender to every other receiver?\n",
    "nx.is_connected(G)"
   ]
  },
  {
   "cell_type": "code",
   "execution_count": 9,
   "metadata": {},
   "outputs": [
    {
     "data": {
      "text/plain": [
       "15836"
      ]
     },
     "execution_count": 9,
     "metadata": {},
     "output_type": "execute_result"
    }
   ],
   "source": [
    "#4.is it possible for information to go from every sender to every other receiver?\n",
    "nx.number_connected_components(G)"
   ]
  },
  {
   "cell_type": "code",
   "execution_count": 10,
   "metadata": {},
   "outputs": [
    {
     "name": "stdout",
     "output_type": "stream",
     "text": [
      "224832\n"
     ]
    }
   ],
   "source": [
    "#5.How many nodes are in the largest (in terms of nodes) weakly connected component?\n",
    "largest_weakly = max(nx.weakly_connected_components(G1))\n",
    "print(len(largest_weakly))"
   ]
  },
  {
   "cell_type": "code",
   "execution_count": 11,
   "metadata": {},
   "outputs": [
    {
     "name": "stdout",
     "output_type": "stream",
     "text": [
      "224832\n"
     ]
    }
   ],
   "source": [
    "#6.How many nodes are in the largest (in terms of nodes) strongly connected component?\n",
    "largest_stronglt = max(nx.strongly_connected_components(G1))\n",
    "print(len(largest))"
   ]
  },
  {
   "cell_type": "code",
   "execution_count": 12,
   "metadata": {
    "scrolled": true
   },
   "outputs": [
    {
     "data": {
      "text/plain": [
       "224832"
      ]
     },
     "execution_count": 12,
     "metadata": {},
     "output_type": "execute_result"
    }
   ],
   "source": [
    "#7.Using the function subgraph, find the subgraph of nodes in a largest strongly connected component.\n",
    "#Call this graph G_sc. How many nodes are in this graph? \n",
    "#G_sc = G.subgraph(largest)\n",
    "G_sc = G.subgraph(max(nx.connected_components(G), key=len)).copy()\n",
    "G_sc.number_of_nodes()"
   ]
  },
  {
   "cell_type": "code",
   "execution_count": null,
   "metadata": {},
   "outputs": [],
   "source": [
    "#8.What is the average distance between nodes in G_sc?\n",
    "avg_shortest_path = nx.average_shortest_path_length(G_sc)\n",
    "print(avg_shortest_path)"
   ]
  },
  {
   "cell_type": "code",
   "execution_count": null,
   "metadata": {},
   "outputs": [],
   "source": [
    "#9.What is the largest possible distance between two employees in G_sc?\n",
    "diameter = nx.diameter(G_sc)\n",
    "print(diameter)"
   ]
  },
  {
   "cell_type": "code",
   "execution_count": null,
   "metadata": {},
   "outputs": [],
   "source": [
    "#10.What is the set of nodes in G_sc with eccentricity equal to the diameter?\n",
    "equal_diameter = [node for node in nx.eccentricity(G_sc) if node == diameter]\n",
    "print(equal_diameter)"
   ]
  },
  {
   "cell_type": "code",
   "execution_count": null,
   "metadata": {},
   "outputs": [],
   "source": [
    "#11.What is the set of node(s) in G_sc with eccentricity equal to the radius? \n",
    "radius = nx.radius(G_sc)\n",
    "equal_radius = [node for node in nx.eccentricity(G_sc) if node == diameter]\n",
    "print(equal_radius)\n",
    "#11.How many nodes are connected to this node?\n",
    "# Which 'node' in specific?"
   ]
  },
  {
   "cell_type": "code",
   "execution_count": null,
   "metadata": {},
   "outputs": [],
   "source": []
  }
 ],
 "metadata": {
  "kernelspec": {
   "display_name": "Python 3",
   "language": "python",
   "name": "python3"
  },
  "language_info": {
   "codemirror_mode": {
    "name": "ipython",
    "version": 3
   },
   "file_extension": ".py",
   "mimetype": "text/x-python",
   "name": "python",
   "nbconvert_exporter": "python",
   "pygments_lexer": "ipython3",
   "version": "3.8.3"
  }
 },
 "nbformat": 4,
 "nbformat_minor": 4
}
