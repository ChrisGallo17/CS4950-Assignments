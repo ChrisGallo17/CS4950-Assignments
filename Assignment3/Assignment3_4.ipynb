{
 "cells": [
  {
   "cell_type": "code",
   "execution_count": 1,
   "metadata": {},
   "outputs": [],
   "source": [
    "import networkx as nx\n",
    "import matplotlib.pyplot as plt \n",
    "\n",
    "#1.Load up the directed multigraph. Make sure the node names are strings.\n",
    "G = nx.read_weighted_edgelist('enron.txt', nodetype=int, create_using=nx.MultiDiGraph())"
   ]
  },
  {
   "cell_type": "code",
   "execution_count": 2,
   "metadata": {},
   "outputs": [
    {
     "data": {
      "text/plain": [
       "151"
      ]
     },
     "execution_count": 2,
     "metadata": {},
     "output_type": "execute_result"
    }
   ],
   "source": [
    "#2.How many unique sources did send an email?\n",
    "G.number_of_nodes()"
   ]
  },
  {
   "cell_type": "code",
   "execution_count": 3,
   "metadata": {},
   "outputs": [
    {
     "data": {
      "text/plain": [
       "266"
      ]
     },
     "execution_count": 3,
     "metadata": {},
     "output_type": "execute_result"
    }
   ],
   "source": [
    "#2.how many emails were sent? # of edges\n",
    "G.number_of_edges()"
   ]
  },
  {
   "cell_type": "code",
   "execution_count": 4,
   "metadata": {},
   "outputs": [
    {
     "data": {
      "text/plain": [
       "False"
      ]
     },
     "execution_count": 4,
     "metadata": {},
     "output_type": "execute_result"
    }
   ],
   "source": [
    "#3.is it possible for information to go from every sender to every other receiver?\n",
    "nx.is_strongly_connected(G)"
   ]
  },
  {
   "cell_type": "code",
   "execution_count": 5,
   "metadata": {},
   "outputs": [
    {
     "data": {
      "text/plain": [
       "True"
      ]
     },
     "execution_count": 5,
     "metadata": {},
     "output_type": "execute_result"
    }
   ],
   "source": [
    "#4.is it possible for information to go from every sender to every other receiver?\n",
    "nx.is_weakly_connected(G)"
   ]
  },
  {
   "cell_type": "code",
   "execution_count": 6,
   "metadata": {},
   "outputs": [
    {
     "name": "stdout",
     "output_type": "stream",
     "text": [
      "151\n"
     ]
    }
   ],
   "source": [
    "#5.How many nodes are in the largest (in terms of nodes) weakly connected component?\n",
    "largest_weakly = max(nx.weakly_connected_components(G))\n",
    "print(len(largest_weakly))"
   ]
  },
  {
   "cell_type": "code",
   "execution_count": 7,
   "metadata": {},
   "outputs": [
    {
     "name": "stdout",
     "output_type": "stream",
     "text": [
      "57\n"
     ]
    }
   ],
   "source": [
    "#6.How many nodes are in the largest (in terms of nodes) strongly connected component?\n",
    "largest = {}\n",
    "for x in nx.strongly_connected_components(G):\n",
    "    if len(x) > len(largest):\n",
    "        largest = x\n",
    "print(len(largest))"
   ]
  },
  {
   "cell_type": "code",
   "execution_count": 8,
   "metadata": {
    "scrolled": true
   },
   "outputs": [
    {
     "data": {
      "text/plain": [
       "57"
      ]
     },
     "execution_count": 8,
     "metadata": {},
     "output_type": "execute_result"
    }
   ],
   "source": [
    "#7.Using the function subgraph, find the subgraph of nodes in a largest strongly connected component.\n",
    "G_sc = G.subgraph(largest)\n",
    "G_sc.number_of_nodes()"
   ]
  },
  {
   "cell_type": "code",
   "execution_count": 9,
   "metadata": {},
   "outputs": [
    {
     "name": "stdout",
     "output_type": "stream",
     "text": [
      "4.791666666666667\n"
     ]
    }
   ],
   "source": [
    "#8.What is the average distance between nodes in G_sc?\n",
    "avg_shortest_path = nx.average_shortest_path_length(G_sc)\n",
    "print(avg_shortest_path)"
   ]
  },
  {
   "cell_type": "code",
   "execution_count": 10,
   "metadata": {},
   "outputs": [
    {
     "name": "stdout",
     "output_type": "stream",
     "text": [
      "12\n"
     ]
    }
   ],
   "source": [
    "#9.What is the largest possible distance between two employees in G_sc?\n",
    "diameter = nx.diameter(G_sc)\n",
    "print(diameter)"
   ]
  },
  {
   "cell_type": "code",
   "execution_count": 11,
   "metadata": {},
   "outputs": [
    {
     "name": "stdout",
     "output_type": "stream",
     "text": [
      "[343120, 343253]\n"
     ]
    }
   ],
   "source": [
    "#10.What is the set of nodes in G_sc with eccentricity equal to the diameter?\n",
    "equal_diameter = []\n",
    "ecc = nx.eccentricity(G_sc)\n",
    "for node in ecc:\n",
    "    if ecc[node] == diameter:\n",
    "        equal_diameter.append(node)\n",
    "print(equal_diameter)"
   ]
  },
  {
   "cell_type": "code",
   "execution_count": 12,
   "metadata": {},
   "outputs": [
    {
     "name": "stdout",
     "output_type": "stream",
     "text": [
      "[343119]\n",
      "14 nodes are connected to node 343119\n"
     ]
    }
   ],
   "source": [
    "#11.What is the set of node(s) in G_sc with eccentricity equal to the radius? \n",
    "radius = nx.radius(G_sc)\n",
    "equal_radius = []\n",
    "for node in ecc:\n",
    "    if ecc[node] == radius:\n",
    "        equal_radius.append(node)\n",
    "print(equal_radius)\n",
    "\n",
    "#11.How many nodes are connected to this node? Which 'node' in specific?\n",
    "for node in equal_radius:\n",
    "    print(G_sc.degree(node), 'nodes are connected to node', node)"
   ]
  },
  {
   "cell_type": "code",
   "execution_count": 13,
   "metadata": {},
   "outputs": [
    {
     "name": "stdout",
     "output_type": "stream",
     "text": [
      "[343120, 343253] are connected to the most other nodes by a shortest path of length equal to the diameter of G_sc\n",
      "343120 is connected to 1 node(s)\n",
      "343253 is connected to 1 node(s)\n"
     ]
    }
   ],
   "source": [
    "#12.Which node in G_sc is connected to the most other nodes by a shortest path of length equal to the diameter of G_sc?\n",
    "path_equal_diameter = []\n",
    "for node in G_sc.nodes():\n",
    "    for path in nx.shortest_path_length(G_sc, node):\n",
    "        if nx.shortest_path_length(G_sc, node)[path] == diameter:\n",
    "            path_equal_diameter.append(node)\n",
    "print(path_equal_diameter, 'are connected to the most other nodes by a shortest path of length equal to the diameter of G_sc')\n",
    "\n",
    "#12.How many nodes are connected to this node?\n",
    "for node in path_equal_diameter:\n",
    "    print(node, 'is connected to',len(list(G_sc.neighbors(node))), 'node(s)')"
   ]
  },
  {
   "cell_type": "code",
   "execution_count": 14,
   "metadata": {},
   "outputs": [],
   "source": [
    "#13.what is the smallest number of nodes you would need to remove from the graph?\n",
    "#   (you're not allowed to remove the node from the previous question or the center nodes)\n"
   ]
  },
  {
   "cell_type": "code",
   "execution_count": 15,
   "metadata": {},
   "outputs": [],
   "source": [
    "#14.Construct an undirected graph G_un using G_sc (you can ignore the attributes)\n",
    "G_un = nx.Graph(G_sc)"
   ]
  },
  {
   "cell_type": "code",
   "execution_count": 16,
   "metadata": {},
   "outputs": [
    {
     "name": "stdout",
     "output_type": "stream",
     "text": [
      "0.12094017094017093 (average clustering)\n",
      "0.11214953271028037 (transitivity)\n"
     ]
    }
   ],
   "source": [
    "#15.What is the transitivity and average clustering coefficient of graph G_un?\n",
    "print(nx.average_clustering(G_un), '(average clustering)', )\n",
    "print(nx.transitivity(G_un), '(transitivity)')"
   ]
  },
  {
   "cell_type": "code",
   "execution_count": null,
   "metadata": {},
   "outputs": [],
   "source": []
  }
 ],
 "metadata": {
  "kernelspec": {
   "display_name": "Python 3",
   "language": "python",
   "name": "python3"
  },
  "language_info": {
   "codemirror_mode": {
    "name": "ipython",
    "version": 3
   },
   "file_extension": ".py",
   "mimetype": "text/x-python",
   "name": "python",
   "nbconvert_exporter": "python",
   "pygments_lexer": "ipython3",
   "version": "3.8.3"
  }
 },
 "nbformat": 4,
 "nbformat_minor": 4
}
