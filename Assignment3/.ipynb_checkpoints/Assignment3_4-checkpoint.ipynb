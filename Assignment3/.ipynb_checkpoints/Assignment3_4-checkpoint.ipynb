{
 "cells": [
  {
   "cell_type": "code",
   "execution_count": 1,
   "metadata": {},
   "outputs": [],
   "source": [
    "import networkx as nx\n",
    "import matplotlib.pyplot as plt \n",
    "\n",
    "#1.Load up the directed multigraph. Make sure the node names are strings.\n",
    "#G = nx.read_edgelist(\"email-EuAll.txt\", nodetype = str)\n",
    "#G1 = nx.MultiDiGraph(G)\n",
    "#G  = nx.read_weighted_edgelist('email-EuAll.txt', nodetype=int, create_using=nx.MultiDiGraph())\n",
    "G2 = nx.read_weighted_edgelist('enron.txt', nodetype=int, create_using=nx.MultiDiGraph())"
   ]
  },
  {
   "cell_type": "code",
   "execution_count": 2,
   "metadata": {},
   "outputs": [
    {
     "data": {
      "text/plain": [
       "151"
      ]
     },
     "execution_count": 2,
     "metadata": {},
     "output_type": "execute_result"
    }
   ],
   "source": [
    "#2.How many unique sources did send an email?\n",
    "#G1.number_of_nodes()\n",
    "G2.number_of_nodes()"
   ]
  },
  {
   "cell_type": "code",
   "execution_count": 3,
   "metadata": {},
   "outputs": [
    {
     "data": {
      "text/plain": [
       "266"
      ]
     },
     "execution_count": 3,
     "metadata": {},
     "output_type": "execute_result"
    }
   ],
   "source": [
    "#2.how many emails were sent? # of edges\n",
    "#G1.number_of_edges()\n",
    "G2.number_of_edges()"
   ]
  },
  {
   "cell_type": "code",
   "execution_count": 4,
   "metadata": {},
   "outputs": [
    {
     "data": {
      "text/plain": [
       "False"
      ]
     },
     "execution_count": 4,
     "metadata": {},
     "output_type": "execute_result"
    }
   ],
   "source": [
    "#3.is it possible for information to go from every sender to every other receiver?\n",
    "nx.is_strongly_connected(G2)"
   ]
  },
  {
   "cell_type": "code",
   "execution_count": 5,
   "metadata": {},
   "outputs": [
    {
     "data": {
      "text/plain": [
       "True"
      ]
     },
     "execution_count": 5,
     "metadata": {},
     "output_type": "execute_result"
    }
   ],
   "source": [
    "#4.is it possible for information to go from every sender to every other receiver?\n",
    "nx.is_weakly_connected(G2)"
   ]
  },
  {
   "cell_type": "code",
   "execution_count": 6,
   "metadata": {},
   "outputs": [
    {
     "name": "stdout",
     "output_type": "stream",
     "text": [
      "151\n"
     ]
    }
   ],
   "source": [
    "#5.How many nodes are in the largest (in terms of nodes) weakly connected component?\n",
    "largest_weakly = max(nx.weakly_connected_components(G2))\n",
    "print(len(largest_weakly))"
   ]
  },
  {
   "cell_type": "code",
   "execution_count": 7,
   "metadata": {},
   "outputs": [
    {
     "name": "stdout",
     "output_type": "stream",
     "text": [
      "57\n"
     ]
    }
   ],
   "source": [
    "#6.How many nodes are in the largest (in terms of nodes) strongly connected component?\n",
    "largest = {}\n",
    "for x in nx.strongly_connected_components(G2):\n",
    "    if len(x) > len(largest):\n",
    "        largest = x\n",
    "print(len(largest))"
   ]
  },
  {
   "cell_type": "code",
   "execution_count": 8,
   "metadata": {
    "scrolled": true
   },
   "outputs": [
    {
     "data": {
      "text/plain": [
       "57"
      ]
     },
     "execution_count": 8,
     "metadata": {},
     "output_type": "execute_result"
    }
   ],
   "source": [
    "#7.Using the function subgraph, find the subgraph of nodes in a largest strongly connected component.\n",
    "#Call this graph G_sc. How many nodes are in this graph? \n",
    "G_sc = G2.subgraph(largest)\n",
    "G_sc.number_of_nodes()"
   ]
  },
  {
   "cell_type": "code",
   "execution_count": 9,
   "metadata": {},
   "outputs": [
    {
     "name": "stdout",
     "output_type": "stream",
     "text": [
      "4.791666666666667\n"
     ]
    }
   ],
   "source": [
    "#8.What is the average distance between nodes in G_sc?\n",
    "avg_shortest_path = nx.average_shortest_path_length(G_sc)\n",
    "print(avg_shortest_path)"
   ]
  },
  {
   "cell_type": "code",
   "execution_count": 10,
   "metadata": {},
   "outputs": [
    {
     "name": "stdout",
     "output_type": "stream",
     "text": [
      "12\n"
     ]
    }
   ],
   "source": [
    "#9.What is the largest possible distance between two employees in G_sc?\n",
    "diameter = nx.diameter(G_sc)\n",
    "print(diameter)"
   ]
  },
  {
   "cell_type": "code",
   "execution_count": 11,
   "metadata": {},
   "outputs": [
    {
     "name": "stdout",
     "output_type": "stream",
     "text": [
      "[343120, 343253]\n"
     ]
    }
   ],
   "source": [
    "#10.What is the set of nodes in G_sc with eccentricity equal to the diameter?\n",
    "equal_diameter = []\n",
    "ecc = nx.eccentricity(G_sc)\n",
    "for node in ecc:\n",
    "    if ecc[node] == diameter:\n",
    "        equal_diameter.append(node)\n",
    "print(equal_diameter)"
   ]
  },
  {
   "cell_type": "code",
   "execution_count": 12,
   "metadata": {},
   "outputs": [
    {
     "name": "stdout",
     "output_type": "stream",
     "text": [
      "[343119]\n",
      "14 nodes are connected to node 343119\n"
     ]
    }
   ],
   "source": [
    "#11.What is the set of node(s) in G_sc with eccentricity equal to the radius? \n",
    "radius = nx.radius(G_sc)\n",
    "equal_radius = []\n",
    "for node in ecc:\n",
    "    if ecc[node] == radius:\n",
    "        equal_radius.append(node)\n",
    "print(equal_radius)\n",
    "\n",
    "#11.How many nodes are connected to this node? Which 'node' in specific?\n",
    "for node in equal_radius:\n",
    "    print(G_sc.degree(node), 'nodes are connected to node', node)"
   ]
  },
  {
   "cell_type": "code",
   "execution_count": 52,
   "metadata": {},
   "outputs": [
    {
     "name": "stdout",
     "output_type": "stream",
     "text": [
      "2\n",
      "2\n",
      "343120\n",
      "343253\n",
      "[343120, 343253]\n"
     ]
    }
   ],
   "source": [
    "#12.Which node in G_sc is connected to the most other nodes by a shortest path of length equal to the diameter of G_sc?\n",
    "for node in equal_diameter:\n",
    "    print(G_sc.degree(node))\n",
    "#print(G_sc.nodes())\n",
    "#print([p for p in nx.all_shortest_paths(G_sc)])\n",
    "path_equal_diameter = []\n",
    "for node in G_sc.nodes():\n",
    "    #print(node, G_sc.degree(node))\n",
    "    for path in nx.shortest_path_length(G_sc, node):\n",
    "        if nx.shortest_path_length(G_sc, node)[path] == diameter:\n",
    "            path_equal_diameter.append(node)\n",
    "            print(G_sc.degree(node))\n",
    "            G_sc.neighbors(node)\n",
    "    #print(node, nx.shortest_path_length(G_sc, node))\n",
    "print(path_equal_diameter)\n",
    "print(path_equal_diameter)\n",
    "#12.How many nodes are connected to this node?"
   ]
  },
  {
   "cell_type": "code",
   "execution_count": null,
   "metadata": {},
   "outputs": [],
   "source": []
  }
 ],
 "metadata": {
  "kernelspec": {
   "display_name": "Python 3",
   "language": "python",
   "name": "python3"
  },
  "language_info": {
   "codemirror_mode": {
    "name": "ipython",
    "version": 3
   },
   "file_extension": ".py",
   "mimetype": "text/x-python",
   "name": "python",
   "nbconvert_exporter": "python",
   "pygments_lexer": "ipython3",
   "version": "3.8.3"
  }
 },
 "nbformat": 4,
 "nbformat_minor": 4
}
