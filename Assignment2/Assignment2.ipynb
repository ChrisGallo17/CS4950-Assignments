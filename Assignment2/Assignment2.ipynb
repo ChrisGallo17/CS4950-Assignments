{
 "cells": [
  {
   "cell_type": "code",
   "execution_count": 4,
   "metadata": {},
   "outputs": [],
   "source": [
    "import pandas as pd\n",
    "import networkx as nx\n",
    "df = pd.read_csv(\"rate.csv\")"
   ]
  },
  {
   "cell_type": "code",
   "execution_count": 5,
   "metadata": {},
   "outputs": [
    {
     "data": {
      "text/html": [
       "<div>\n",
       "<style scoped>\n",
       "    .dataframe tbody tr th:only-of-type {\n",
       "        vertical-align: middle;\n",
       "    }\n",
       "\n",
       "    .dataframe tbody tr th {\n",
       "        vertical-align: top;\n",
       "    }\n",
       "\n",
       "    .dataframe thead th {\n",
       "        text-align: right;\n",
       "    }\n",
       "</style>\n",
       "<table border=\"1\" class=\"dataframe\">\n",
       "  <thead>\n",
       "    <tr style=\"text-align: right;\">\n",
       "      <th></th>\n",
       "      <th>From</th>\n",
       "      <th>To</th>\n",
       "      <th>Rate</th>\n",
       "    </tr>\n",
       "  </thead>\n",
       "  <tbody>\n",
       "    <tr>\n",
       "      <th>0</th>\n",
       "      <td>ROMUL</td>\n",
       "      <td>AMBROSE</td>\n",
       "      <td>2</td>\n",
       "    </tr>\n",
       "    <tr>\n",
       "      <th>1</th>\n",
       "      <td>ROMUL</td>\n",
       "      <td>PETER</td>\n",
       "      <td>3</td>\n",
       "    </tr>\n",
       "    <tr>\n",
       "      <th>2</th>\n",
       "      <td>ROMUL</td>\n",
       "      <td>ALBERT</td>\n",
       "      <td>1</td>\n",
       "    </tr>\n",
       "    <tr>\n",
       "      <th>3</th>\n",
       "      <td>BONAVEN</td>\n",
       "      <td>ROMUL</td>\n",
       "      <td>3</td>\n",
       "    </tr>\n",
       "    <tr>\n",
       "      <th>4</th>\n",
       "      <td>BONAVEN</td>\n",
       "      <td>VICTOR</td>\n",
       "      <td>2</td>\n",
       "    </tr>\n",
       "  </tbody>\n",
       "</table>\n",
       "</div>"
      ],
      "text/plain": [
       "      From       To  Rate\n",
       "0    ROMUL  AMBROSE     2\n",
       "1    ROMUL    PETER     3\n",
       "2    ROMUL   ALBERT     1\n",
       "3  BONAVEN    ROMUL     3\n",
       "4  BONAVEN   VICTOR     2"
      ]
     },
     "execution_count": 5,
     "metadata": {},
     "output_type": "execute_result"
    }
   ],
   "source": [
    "df.head()"
   ]
  },
  {
   "cell_type": "code",
   "execution_count": 10,
   "metadata": {},
   "outputs": [],
   "source": [
    "G_panda = nx.from_pandas_edgelist(df, 'From', 'To', edge_attr= 'Rate' , create_using=nx.DiGraph())"
   ]
  },
  {
   "cell_type": "code",
   "execution_count": 11,
   "metadata": {},
   "outputs": [
    {
     "data": {
      "text/plain": [
       "{'ROMUL': array([1.00000000e+00, 3.14580078e-08]),\n",
       " 'AMBROSE': array([0.93969262, 0.34202015]),\n",
       " 'PETER': array([0.76604444, 0.64278764]),\n",
       " 'ALBERT': array([0.49999997, 0.86602551]),\n",
       " 'BONAVEN': array([0.17364824, 0.98480779]),\n",
       " 'VICTOR': array([-0.17364818,  0.98480779]),\n",
       " 'ELIAS': array([-0.50000006,  0.86602545]),\n",
       " 'BERTH': array([-0.76604444,  0.64278769]),\n",
       " 'LOUIS': array([-0.93969262,  0.34202024]),\n",
       " 'GREG': array([-1.00000000e+00, -5.59647688e-08]),\n",
       " 'HUGH': array([-0.93969262, -0.34202012]),\n",
       " 'MARK': array([-0.7660445 , -0.64278752]),\n",
       " 'JOHN': array([-0.49999991, -0.86602539]),\n",
       " 'WINF': array([-0.17364812, -0.98480773]),\n",
       " 'BASIL': array([ 0.17364816, -0.98480767]),\n",
       " 'BONIFACE': array([ 0.49999991, -0.86602539]),\n",
       " 'SIMP': array([ 0.76604432, -0.64278769]),\n",
       " 'AMAND': array([ 0.93969256, -0.34202033])}"
      ]
     },
     "execution_count": 11,
     "metadata": {},
     "output_type": "execute_result"
    }
   ],
   "source": [
    "create_using = nx.DiGraph()\n",
    "nx.shell_layout(G_panda)"
   ]
  },
  {
   "cell_type": "code",
   "execution_count": null,
   "metadata": {},
   "outputs": [],
   "source": []
  }
 ],
 "metadata": {
  "kernelspec": {
   "display_name": "Python 3",
   "language": "python",
   "name": "python3"
  },
  "language_info": {
   "codemirror_mode": {
    "name": "ipython",
    "version": 3
   },
   "file_extension": ".py",
   "mimetype": "text/x-python",
   "name": "python",
   "nbconvert_exporter": "python",
   "pygments_lexer": "ipython3",
   "version": "3.8.3"
  }
 },
 "nbformat": 4,
 "nbformat_minor": 4
}
