{
 "cells": [
  {
   "cell_type": "code",
   "execution_count": 2,
   "metadata": {},
   "outputs": [],
   "source": [
    "import networkx as nx\n",
    "from networkx.algorithms import community\n",
    "\n",
    "edgelist = []\n",
    "with open(\"amazon-meta.txt\", \"r\", encoding=\"utf8\") as a_file:\n",
    "    for line in a_file:\n",
    "        stripped_line = line.strip()\n",
    "        if stripped_line[0:5] == 'ASIN:':\n",
    "            cur_item = stripped_line[5:].strip()\n",
    "        if stripped_line[0:8] == 'similar:':\n",
    "            cur_tuple = stripped_line[9:]\n",
    "            cur_list = cur_tuple.split('  ')\n",
    "            cur_list.pop(0)\n",
    "            if len(cur_list) != 0:\n",
    "                for i in cur_list:\n",
    "                    edgelist.append(str(cur_item) + ' ' + i)\n",
    "                    \n",
    "    G = nx.parse_edgelist(edgelist)"
   ]
  },
  {
   "cell_type": "code",
   "execution_count": null,
   "metadata": {},
   "outputs": [],
   "source": [
    "import community as community_louvain\n",
    "\n",
    "# partition is a dictionary that uses the node as a key, and the number of the community it belongs to as it's value\n",
    "partition = community_louvain.best_partition(G)"
   ]
  },
  {
   "cell_type": "code",
   "execution_count": null,
   "metadata": {},
   "outputs": [],
   "source": [
    "i = 0\n",
    "for key in partition:\n",
    "    if i > 1000 and i < 1020: print( key, ' -> ', partition[key])\n",
    "    i+=1"
   ]
  },
  {
   "cell_type": "code",
   "execution_count": null,
   "metadata": {},
   "outputs": [],
   "source": [
    "# the communities dictionary indexes the communities and uses its index as the key and the array in that community as its value\n",
    "communities = {}\n",
    "\n",
    "for key in partition:\n",
    "    if partition[key] in communities.keys():\n",
    "        communities[partition[key]].append(key)\n",
    "    else:\n",
    "        communities[partition[key]] = [key]\n",
    "\n",
    "i = 0\n",
    "for community in communities:\n",
    "    if i < 5 and len(communities[community]) < 20: \n",
    "        # returning a couple of communities that don't have a lot of communities for better visability\n",
    "        print(community, ' -> ', communities[community])\n",
    "        i+=1"
   ]
  },
  {
   "cell_type": "code",
   "execution_count": null,
   "metadata": {},
   "outputs": [],
   "source": [
    "# all_communities is an array of all the arrays of communities\n",
    "all_communities = []\n",
    "for community in communities:\n",
    "    all_communities.append(communities[community])\n",
    "    \n",
    "# sorting communities \n",
    "all_communities.sort(key=len)\n",
    "all_communities.reverse()\n",
    "\n",
    "i = 0\n",
    "while i < 11:\n",
    "    print(len(all_communities[i])) # returns the length of the top 11 communities\n",
    "    i+=1\n",
    "\n",
    "# we returned the top 11 so we can see that the 10th and 11th largest don't have the same size\n",
    "# we then made a new partition with just the top 10 communities\n",
    "top_10 = {}\n",
    "for community in communities:\n",
    "    if (len(communities[community]) >= 9911):\n",
    "        top_10[community] = communities[community]"
   ]
  },
  {
   "cell_type": "code",
   "execution_count": null,
   "metadata": {},
   "outputs": [],
   "source": [
    "# turn top 10 communities into a partition\n",
    "top_10_partition = {}\n",
    "for com in top_10:\n",
    "    for node in top_10[com]:\n",
    "        top_10_partition[node] = com\n",
    "    print (node, com)"
   ]
  },
  {
   "cell_type": "code",
   "execution_count": null,
   "metadata": {},
   "outputs": [],
   "source": [
    "print(community_louvain.modularity(partition, G))\n",
    "# print(community_louvain.modularity(top_10_partition, G))"
   ]
  },
  {
   "cell_type": "code",
   "execution_count": null,
   "metadata": {
    "scrolled": true
   },
   "outputs": [],
   "source": [
    "# Gets PageRank, returns a dictionary of nodes with its pagerank as the value\n",
    "pr = nx.pagerank(G)"
   ]
  },
  {
   "cell_type": "code",
   "execution_count": 14,
   "metadata": {},
   "outputs": [
    {
     "name": "stdout",
     "output_type": "stream",
     "text": [
      "0.9239585300290204\n"
     ]
    }
   ],
   "source": [
    "print(mod)\n",
    "# for community in communities:\n",
    "    "
   ]
  },
  {
   "cell_type": "code",
   "execution_count": 3,
   "metadata": {},
   "outputs": [],
   "source": [
    "# import matplotlib.cm as cm\n",
    "# import matplotlib.pyplot as plt\n",
    "# # draw the graph\n",
    "# pos = nx.spring_layout(G)\n",
    "# # color the nodes according to their partition\n",
    "# cmap = cm.get_cmap('viridis', max(partition.values()) + 1)\n",
    "# nx.draw_networkx_nodes(G, pos, partition.keys(), node_size=40, cmap=cmap, node_color=list(partition.values()))\n",
    "# nx.draw_networkx_edges(G, pos, alpha=0.25)\n",
    "# plt.show()"
   ]
  }
 ],
 "metadata": {
  "kernelspec": {
   "display_name": "Python 3",
   "language": "python",
   "name": "python3"
  },
  "language_info": {
   "codemirror_mode": {
    "name": "ipython",
    "version": 3
   },
   "file_extension": ".py",
   "mimetype": "text/x-python",
   "name": "python",
   "nbconvert_exporter": "python",
   "pygments_lexer": "ipython3",
   "version": "3.8.5"
  }
 },
 "nbformat": 4,
 "nbformat_minor": 4
}
