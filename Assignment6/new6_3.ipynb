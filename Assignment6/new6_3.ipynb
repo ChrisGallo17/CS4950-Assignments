{
 "cells": [
  {
   "cell_type": "code",
   "execution_count": 2,
   "metadata": {},
   "outputs": [],
   "source": [
    "import networkx as nx\n",
    "from networkx.algorithms import community\n",
    "\n",
    "edgelist = []\n",
    "with open(\"amazon-meta.txt\", \"r\", encoding=\"utf8\") as a_file:\n",
    "    for line in a_file:\n",
    "        stripped_line = line.strip()\n",
    "        if stripped_line[0:5] == 'ASIN:':\n",
    "            cur_item = stripped_line[5:].strip()\n",
    "        if stripped_line[0:8] == 'similar:':\n",
    "            cur_tuple = stripped_line[9:]\n",
    "            cur_list = cur_tuple.split('  ')\n",
    "            cur_list.pop(0)\n",
    "            if len(cur_list) != 0:\n",
    "                for i in cur_list:\n",
    "                    edgelist.append(str(cur_item) + ' ' + i)\n",
    "                    \n",
    "    G = nx.parse_edgelist(edgelist)"
   ]
  },
  {
   "cell_type": "code",
   "execution_count": 3,
   "metadata": {},
   "outputs": [],
   "source": [
    "import community as community_louvain\n",
    "\n",
    "# partition is a dictionary that uses the node as a key, and the number of the community it belongs to as it's value\n",
    "partition = community_louvain.best_partition(G)"
   ]
  },
  {
   "cell_type": "code",
   "execution_count": 4,
   "metadata": {},
   "outputs": [
    {
     "name": "stdout",
     "output_type": "stream",
     "text": [
      "B0001XP2T0  ->  85\n",
      "B0000073HU  ->  85\n",
      "B0000073HS  ->  85\n",
      "6301967917  ->  15\n",
      "B0006TPDPM  ->  15\n",
      "B0003JANSW  ->  15\n",
      "B000063UR5  ->  15\n",
      "B00008LDNZ  ->  15\n",
      "B0006HBZBK  ->  15\n",
      "0027348407  ->  28\n",
      "014030956X  ->  28\n",
      "0140303588  ->  28\n",
      "0525304002  ->  28\n",
      "0440486815  ->  28\n",
      "0525392440  ->  28\n",
      "0872886476  ->  21\n",
      "158923121X  ->  21\n",
      "0872885259  ->  21\n",
      "0830641424  ->  21\n"
     ]
    }
   ],
   "source": [
    "i = 0\n",
    "for key in partition:\n",
    "    if i > 1000 and i < 1020: print( key, ' -> ', partition[key])\n",
    "    i+=1"
   ]
  },
  {
   "cell_type": "code",
   "execution_count": 5,
   "metadata": {},
   "outputs": [
    {
     "name": "stdout",
     "output_type": "stream",
     "text": [
      "36  ->  ['B0000060T5', '6303953344', '630395331X', '6303953328', '6303953301', '6304159927', '6304186851', '6304186827']\n",
      "62  ->  ['0590108859', '0439043638', '0590138596', '0590216872', '0439992575', '043999232X', '0590138588', '043904362X', '0439981069', '0439999278']\n",
      "66  ->  ['0553487388', '0553487094', '0553487108', '055348737X', '0553486802', '0553486799', '0553486829', '0553486810', '0553487078']\n",
      "77  ->  ['B000003ONN', 'B00004RBUH', 'B000002ZAG', 'B0000BXBXG']\n",
      "81  ->  ['0824799372', '0750675691', '0878147187']\n"
     ]
    }
   ],
   "source": [
    "# the communities dictionary indexes the communities and uses its index as the key and the array in that community as its value\n",
    "communities = {}\n",
    "\n",
    "for key in partition:\n",
    "    if partition[key] in communities.keys():\n",
    "        communities[partition[key]].append(key)\n",
    "    else:\n",
    "        communities[partition[key]] = [key]\n",
    "\n",
    "i = 0\n",
    "for community in communities:\n",
    "    if i < 5 and len(communities[community]) < 20: \n",
    "        # returning a couple of communities that don't have a lot of communities for better visability\n",
    "        print(community, ' -> ', communities[community])\n",
    "        i+=1"
   ]
  },
  {
   "cell_type": "code",
   "execution_count": 6,
   "metadata": {},
   "outputs": [
    {
     "name": "stdout",
     "output_type": "stream",
     "text": [
      "28034\n",
      "17316\n",
      "16076\n",
      "15087\n",
      "12988\n",
      "11634\n",
      "11119\n",
      "10487\n",
      "10191\n",
      "9968\n",
      "9900\n"
     ]
    }
   ],
   "source": [
    "# all_communities is an array of all the arrays of communities\n",
    "all_communities = []\n",
    "for community in communities:\n",
    "    all_communities.append(communities[community])\n",
    "    \n",
    "# sorting communities \n",
    "all_communities.sort(key=len)\n",
    "all_communities.reverse()\n",
    "\n",
    "i = 0\n",
    "while i < 11:\n",
    "    print(len(all_communities[i])) # returns the length of the top 11 communities\n",
    "    i+=1\n",
    "\n",
    "# we returned the top 11 so we can see that the 10th and 11th largest don't have the same size\n",
    "# we then made a new partition with just the top 10 communities\n",
    "top_10 = {}\n",
    "for community in communities:\n",
    "    if (len(communities[community]) >= 9911):\n",
    "        top_10[community] = communities[community]"
   ]
  },
  {
   "cell_type": "code",
   "execution_count": 7,
   "metadata": {},
   "outputs": [
    {
     "name": "stdout",
     "output_type": "stream",
     "text": [
      "0849960630 0\n",
      "0151005605 6\n",
      "1568811241 11\n",
      "0801847575 14\n",
      "B00006JBIX 15\n",
      "0060537612 17\n",
      "1878990950 20\n",
      "B00006RGI2 26\n",
      "0521421179 45\n",
      "1890318426 57\n"
     ]
    }
   ],
   "source": [
    "# turn top 10 communities into a partition\n",
    "top_10_partition = {}\n",
    "for com in top_10:\n",
    "    for node in top_10[com]:\n",
    "        top_10_partition[node] = com\n",
    "    print (node, com)"
   ]
  },
  {
   "cell_type": "code",
   "execution_count": 8,
   "metadata": {},
   "outputs": [
    {
     "name": "stdout",
     "output_type": "stream",
     "text": [
      "0.9244989523059571\n"
     ]
    }
   ],
   "source": [
    "print(community_louvain.modularity(partition, G))\n",
    "# print(community_louvain.modularity(top_10_partition, G))"
   ]
  },
  {
   "cell_type": "code",
   "execution_count": 9,
   "metadata": {
    "scrolled": true
   },
   "outputs": [],
   "source": [
    "# Gets PageRank, returns a dictionary of nodes with its pagerank as the value\n",
    "pr = nx.pagerank(G)"
   ]
  },
  {
   "cell_type": "code",
   "execution_count": 13,
   "metadata": {},
   "outputs": [
    {
     "name": "stdout",
     "output_type": "stream",
     "text": [
      "0827229534 1.7455492274617236e-06\n",
      "0804215715 7.626854440762131e-06\n",
      "156101074X 5.986557107965901e-06\n",
      "0687023955 4.209430170790477e-06\n",
      "0687074231 2.5510851820318872e-06\n"
     ]
    }
   ],
   "source": [
    "i = 0\n",
    "for p in pr:\n",
    "    if i < 5:\n",
    "        print(p, pr[p])\n",
    "    i += 1        "
   ]
  },
  {
   "cell_type": "code",
   "execution_count": 22,
   "metadata": {},
   "outputs": [
    {
     "name": "stdout",
     "output_type": "stream",
     "text": [
      "{'B0002IVN9W': 9.253275475427091e-05, 'B00008LDNZ': 8.10392800384962e-05, 'B00023P4I8': 7.956559859339843e-05, '0670033375': 6.873713601221831e-05, '0890420254': 6.811337667598832e-05, '0679454438': 6.34032626136723e-05, '1582701148': 5.91598094527728e-05, '1557987912': 5.909664058255473e-05, '1594200246': 5.530857546474262e-05, '0393050572': 5.473392479323347e-05}\n"
     ]
    }
   ],
   "source": [
    "sorted_values = sorted(pr.values(), reverse=True)\n",
    "sorted_dict = {}\n",
    "\n",
    "x = 0\n",
    "for i in sorted_values:\n",
    "    if x < 10:\n",
    "        for j in pr.keys():\n",
    "            if pr[j] == i:\n",
    "                sorted_dict[j] = pr[j]\n",
    "                break\n",
    "        x += 1\n",
    "print(sorted_dict)\n",
    "# for value"
   ]
  },
  {
   "cell_type": "code",
   "execution_count": 3,
   "metadata": {},
   "outputs": [],
   "source": [
    "# import matplotlib.cm as cm\n",
    "# import matplotlib.pyplot as plt\n",
    "# # draw the graph\n",
    "# pos = nx.spring_layout(G)\n",
    "# # color the nodes according to their partition\n",
    "# cmap = cm.get_cmap('viridis', max(partition.values()) + 1)\n",
    "# nx.draw_networkx_nodes(G, pos, partition.keys(), node_size=40, cmap=cmap, node_color=list(partition.values()))\n",
    "# nx.draw_networkx_edges(G, pos, alpha=0.25)\n",
    "# plt.show()"
   ]
  }
 ],
 "metadata": {
  "kernelspec": {
   "display_name": "Python 3",
   "language": "python",
   "name": "python3"
  },
  "language_info": {
   "codemirror_mode": {
    "name": "ipython",
    "version": 3
   },
   "file_extension": ".py",
   "mimetype": "text/x-python",
   "name": "python",
   "nbconvert_exporter": "python",
   "pygments_lexer": "ipython3",
   "version": "3.8.5"
  }
 },
 "nbformat": 4,
 "nbformat_minor": 4
}
